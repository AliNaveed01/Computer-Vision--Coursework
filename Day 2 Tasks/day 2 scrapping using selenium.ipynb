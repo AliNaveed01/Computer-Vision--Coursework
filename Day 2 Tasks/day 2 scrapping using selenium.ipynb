{
 "cells": [
  {
   "cell_type": "code",
   "execution_count": 160,
   "metadata": {},
   "outputs": [],
   "source": [
    "from selenium import webdriver\n",
    "from selenium.webdriver.common.keys import Keys\n",
    "from selenium.webdriver.common.by import By\n",
    "import pandas as pd\n",
    "import numpy as np\n",
    "import matplotlib.pyplot as plt"
   ]
  },
  {
   "cell_type": "code",
   "execution_count": 161,
   "metadata": {},
   "outputs": [],
   "source": [
    "# url = https://www.imdb.com/chart/top/\n",
    "\n",
    "driver = webdriver.Chrome()\n",
    "driver.get(\"https://www.imdb.com/chart/top/\")\n",
    "driver.implicitly_wait(10)\n",
    "\n",
    "# print complete html page\n",
    "source = driver.page_source\n"
   ]
  },
  {
   "cell_type": "code",
   "execution_count": 162,
   "metadata": {},
   "outputs": [
    {
     "name": "stdout",
     "output_type": "stream",
     "text": [
      "['1. The Shawshank Redemption', '2. The Godfather', '3. The Dark Knight', '4. The Godfather Part II', '5. 12 Angry Men', \"6. Schindler's List\", '7. The Lord of the Rings: The Return of the King', '8. Pulp Fiction', '9. The Lord of the Rings: The Fellowship of the Ring', '10. Dune: Part Two', '11. The Good, the Bad and the Ugly', '12. Forrest Gump', '13. The Lord of the Rings: The Two Towers', '14. Fight Club', '15. Inception', '16. Star Wars: Episode V - The Empire Strikes Back', '17. The Matrix', '18. Goodfellas', \"19. One Flew Over the Cuckoo's Nest\", '20. Se7en', \"21. It's a Wonderful Life\", '22. Interstellar', '23. Seven Samurai', '24. The Silence of the Lambs', '25. Saving Private Ryan', '26. City of God', '27. Life Is Beautiful', '28. The Green Mile', '29. Terminator 2: Judgment Day', '30. Star Wars: Episode IV - A New Hope', '31. Back to the Future', '32. Spirited Away', '33. The Pianist', '34. Spider-Man: Across the Spider-Verse', '35. Parasite', '36. Psycho', '37. Gladiator', '38. The Lion King', '39. Léon: The Professional', '40. The Departed', '41. American History X', '42. Whiplash', '43. The Prestige', '44. Grave of the Fireflies', '45. Harakiri', '46. The Usual Suspects', '47. Casablanca', '48. The Intouchables', '49. Cinema Paradiso', '50. Modern Times', '51. Rear Window', '52. Once Upon a Time in the West', '53. Alien', '54. City Lights', '55. 12th Fail', '56. Apocalypse Now', '57. Django Unchained', '58. Memento', '59. WALL·E', '60. Raiders of the Lost Ark', '61. The Lives of Others', '62. Sunset Blvd.', '63. Paths of Glory', '64. Avengers: Infinity War', '65. Spider-Man: Into the Spider-Verse', '66. The Shining', '67. Witness for the Prosecution', '68. The Great Dictator', '69. Aliens', '70. Inglourious Basterds', '71. The Dark Knight Rises', '72. Dr. Strangelove or: How I Learned to Stop Worrying and Love the Bomb', '73. American Beauty', '74. Oldboy', '75. Coco', '76. Amadeus', '77. Toy Story', '78. The Boat', '79. Braveheart', '80. Avengers: Endgame', '81. Joker', '82. Princess Mononoke', '83. Good Will Hunting', '84. Your Name.', '85. Oppenheimer', '86. Once Upon a Time in America', '87. High and Low', '88. 3 Idiots', \"89. Singin' in the Rain\", '90. Capernaum', '91. Requiem for a Dream', '92. Come and See', '93. Toy Story 3', '94. Star Wars: Episode VI - Return of the Jedi', '95. Eternal Sunshine of the Spotless Mind', '96. The Hunt', '97. 2001: A Space Odyssey', '98. Reservoir Dogs', '99. Ikiru', '100. Lawrence of Arabia', '101. The Apartment', '102. North by Northwest', '103. Citizen Kane', '104. M', '105. Vertigo', '106. Double Indemnity', '107. Scarface', '108. Incendies', '109. Amélie', '110. Full Metal Jacket', '111. A Clockwork Orange', '112. Heat', '113. Up', '114. To Kill a Mockingbird', '115. The Sting', '116. A Separation', '117. Indiana Jones and the Last Crusade', '118. Die Hard', '119. Metropolis', '120. Hamilton', '121. Like Stars on Earth', '122. Snatch', '123. L.A. Confidential', '124. Bicycle Thieves', '125. 1917', '126. Taxi Driver', '127. Downfall', '128. Dangal', '129. For a Few Dollars More', '130. Batman Begins', '131. The Wolf of Wall Street', '132. Some Like It Hot', '133. The Kid', '134. Green Book', '135. The Father', '136. Top Gun: Maverick', '137. Judgment at Nuremberg', '138. All About Eve', '139. The Truman Show', '140. There Will Be Blood', '141. Shutter Island', '142. Casino', '143. Ran', '144. Jurassic Park', '145. The Sixth Sense', \"146. Pan's Labyrinth\", '147. Unforgiven', '148. A Beautiful Mind', '149. No Country for Old Men', '150. The Thing', '151. The Treasure of the Sierra Madre', '152. Yojimbo', '153. Kill Bill: Vol. 1', '154. Monty Python and the Holy Grail', '155. The Great Escape', '156. Finding Nemo', '157. Rashomon', '158. Poor Things', \"159. Howl's Moving Castle\", '160. The Elephant Man', '161. Prisoners', '162. Chinatown', '163. Dial M for Murder', '164. Gone with the Wind', '165. V for Vendetta', '166. Lock, Stock and Two Smoking Barrels', '167. The Secret in Their Eyes', '168. Raging Bull', '169. Inside Out', '170. Three Billboards Outside Ebbing, Missouri', '171. Trainspotting', '172. The Bridge on the River Kwai', '173. Spider-Man: No Way Home', '174. Fargo', '175. Klaus', '176. Warrior', '177. Catch Me If You Can', '178. Godzilla Minus One', '179. Gran Torino', '180. My Neighbor Totoro', '181. Million Dollar Baby', '182. Harry Potter and the Deathly Hallows: Part 2', '183. Children of Heaven', '184. 12 Years a Slave', '185. Blade Runner', '186. Before Sunrise', '187. The Grand Budapest Hotel', '188. Ben-Hur', '189. Barry Lyndon', '190. Gone Girl', '191. The Gold Rush', '192. Hacksaw Ridge', '193. In the Name of the Father', '194. Memories of Murder', '195. Dead Poets Society', '196. On the Waterfront', '197. The General', '198. The Deer Hunter', '199. Wild Tales', '200. Mad Max: Fury Road', '201. Sherlock Jr.', '202. Monsters, Inc.', '203. The Third Man', '204. Wild Strawberries', '205. The Wages of Fear', '206. Jaws', '207. How to Train Your Dragon', '208. Mary and Max', '209. Mr. Smith Goes to Washington', '210. Ford v Ferrari', '211. Ratatouille', '212. The Seventh Seal', '213. Tokyo Story', '214. Room', '215. The Big Lebowski', '216. Rocky', '217. Logan', '218. Spotlight', '219. Hotel Rwanda', '220. Platoon', '221. The Terminator', '222. The Passion of Joan of Arc', '223. Before Sunset', '224. The Best Years of Our Lives', '225. La haine', '226. Jai Bhim', '227. The Exorcist', '228. Rush', '229. Pirates of the Caribbean: The Curse of the Black Pearl', '230. Network', '231. Stand by Me', '232. The Wizard of Oz', '233. The Incredibles', \"234. Hachi: A Dog's Tale\", '235. Into the Wild', '236. The Handmaiden', '237. My Father and My Son', '238. To Be or Not to Be', '239. The Sound of Music', '240. The Grapes of Wrath', '241. Groundhog Day', '242. The Battle of Algiers', '243. Amores Perros', '244. Rebecca', '245. Cool Hand Luke', '246. The Iron Giant', '247. The Help', '248. It Happened One Night', '249. The 400 Blows', '250. Dances with Wolves', 'You have rated', 'More to explore', 'Charts', 'Top Box Office (US)', 'Most Popular Movies', 'Top Rated English Movies', 'Most Popular TV Shows', 'Top 250 TV Shows', 'Lowest Rated Movies', 'Most Popular Celebs', 'Movie News', 'Top Rated Movies by Genre', 'Recently viewed']\n"
     ]
    }
   ],
   "source": [
    "#the name of the movies are in h3 tag as <h3 class=\"ipc-title__text\">1. The Shawshank Redemption</h3>\n",
    "# we have to scrap the name of the movies in this page and store them in a list \n",
    "# we will use the xpath to get the name of the movies\n",
    "\n",
    "name_list = driver.find_elements(By.XPATH,'//h3[@class=\"ipc-title__text\"]') # x path for finding specific paths\n",
    "name_list = [name.text for name in name_list]\n",
    "name_list = name_list[1:] # the first element is not a movie name\n",
    "print(name_list)\n"
   ]
  },
  {
   "cell_type": "code",
   "execution_count": 163,
   "metadata": {},
   "outputs": [
    {
     "name": "stdout",
     "output_type": "stream",
     "text": [
      "['9.2\\n (2M)', '9.0\\n (2.8M)', '9.0\\n (1.4M)', '9.0\\n (857K)', '9.0\\n (1.4M)', '9.0\\n (2M)', '8.9\\n (2.2M)', '8.9\\n (2M)', '9.0\\n (128K)', '8.8\\n (806K)', '8.8\\n (2.2M)', '8.8\\n (1.8M)', '8.8\\n (2.3M)', '8.8\\n (2.5M)', '8.7\\n (1.4M)', '8.7\\n (2M)', '8.7\\n (1.2M)', '8.7\\n (1.1M)', '8.6\\n (1.8M)', '8.6\\n (496K)', '8.7\\n (2.1M)', '8.6\\n (365K)', '8.6\\n (1.5M)', '8.6\\n (1.5M)', '8.6\\n (796K)', '8.6\\n (738K)', '8.6\\n (1.4M)', '8.6\\n (1.2M)', '8.6\\n (1.4M)', '8.5\\n (1.3M)', '8.6\\n (840K)', '8.5\\n (904K)', '8.6\\n (353K)', '8.5\\n (942K)', '8.5\\n (714K)', '8.5\\n (1.6M)', '8.5\\n (1.1M)', '8.5\\n (1.2M)', '8.5\\n (1.4M)', '8.5\\n (1.2M)', '8.5\\n (976K)', '8.5\\n (1.4M)', '8.5\\n (307K)', '8.6\\n (67K)', '8.5\\n (1.1M)', '8.5\\n (603K)', '8.5\\n (921K)', '8.5\\n (281K)', '8.5\\n (258K)', '8.5\\n (519K)', '8.5\\n (347K)', '8.5\\n (943K)', '8.5\\n (195K)', '9.1\\n (102K)', '8.4\\n (705K)', '8.5\\n (1.7M)', '8.4\\n (1.3M)', '8.4\\n (1.2M)', '8.4\\n (1M)', '8.4\\n (408K)', '8.4\\n (235K)', '8.4\\n (211K)', '8.4\\n (1.2M)', '8.4\\n (662K)', '8.4\\n (1.1M)', '8.4\\n (137K)', '8.4\\n (236K)', '8.4\\n (758K)', '8.4\\n (1.6M)', '8.4\\n (1.8M)', '8.4\\n (515K)', '8.3\\n (1.2M)', '8.3\\n (630K)', '8.4\\n (583K)', '8.4\\n (425K)', '8.3\\n (1.1M)', '8.4\\n (263K)', '8.3\\n (1.1M)', '8.4\\n (1.3M)', '8.4\\n (1.5M)', '8.3\\n (430K)', '8.3\\n (1.1M)', '8.4\\n (315K)', '8.4\\n (662K)', '8.3\\n (375K)', '8.4\\n (52K)', '8.4\\n (431K)', '8.3\\n (259K)', '8.4\\n (104K)', '8.3\\n (893K)', '8.4\\n (95K)', '8.3\\n (887K)', '8.3\\n (1.1M)', '8.3\\n (1.1M)', '8.3\\n (361K)', '8.3\\n (715K)', '8.3\\n (1.1M)', '8.3\\n (87K)', '8.3\\n (312K)', '8.3\\n (195K)', '8.3\\n (344K)', '8.3\\n (464K)', '8.3\\n (167K)', '8.3\\n (425K)', '8.3\\n (166K)', '8.3\\n (909K)', '8.3\\n (197K)', '8.3\\n (791K)', '8.3\\n (786K)', '8.3\\n (876K)', '8.3\\n (714K)', '8.3\\n (1.1M)', '8.3\\n (331K)', '8.3\\n (278K)', '8.3\\n (257K)', '8.2\\n (807K)', '8.2\\n (940K)', '8.3\\n (184K)', '8.3\\n (112K)', '8.3\\n (205K)', '8.2\\n (904K)', '8.2\\n (614K)', '8.3\\n (174K)', '8.2\\n (667K)', '8.2\\n (913K)', '8.2\\n (373K)', '8.3\\n (209K)', '8.2\\n (273K)', '8.2\\n (1.6M)', '8.2\\n (1.6M)', '8.2\\n (282K)', '8.2\\n (134K)', '8.2\\n (561K)', '8.2\\n (190K)', '8.2\\n (680K)', '8.3\\n (85K)', '8.2\\n (138K)', '8.2\\n (1.2M)', '8.2\\n (637K)', '8.2\\n (1.4M)', '8.2\\n (560K)', '8.2\\n (135K)', '8.2\\n (1.1M)', '8.2\\n (1M)', '8.2\\n (700K)', '8.2\\n (434K)', '8.2\\n (981K)', '8.2\\n (1.1M)', '8.2\\n (463K)', '8.2\\n (132K)', '8.2\\n (130K)', '8.2\\n (1.2M)', '8.2\\n (567K)', '8.2\\n (257K)', '8.2\\n (1.1M)', '8.2\\n (179K)', '8.2\\n (133K)', '8.2\\n (443K)', '8.2\\n (257K)', '8.1\\n (800K)', '8.1\\n (347K)', '8.2\\n (188K)', '8.2\\n (332K)', '8.2\\n (1.2M)', '8.1\\n (613K)', '8.2\\n (221K)', '8.1\\n (378K)', '8.1\\n (778K)', '8.1\\n (551K)', '8.1\\n (722K)', '8.1\\n (232K)', '8.2\\n (868K)', '8.1\\n (722K)', '8.2\\n (187K)', '8.1\\n (496K)', '8.1\\n (1.1M)', '8.3\\n (45K)', '8.1\\n (811K)', '8.1\\n (376K)', '8.1\\n (718K)', '8.1\\n (941K)', '8.2\\n (80K)', '8.1\\n (738K)', '8.1\\n (818K)', '8.1\\n (337K)', '8.1\\n (880K)', '8.1\\n (252K)', '8.1\\n (182K)', '8.1\\n (1.1M)', '8.1\\n (118K)', '8.1\\n (588K)', '8.1\\n (186K)', '8.1\\n (213K)', '8.1\\n (540K)', '8.1\\n (164K)', '8.1\\n (98K)', '8.1\\n (360K)', '8.1\\n (215K)', '8.1\\n (1.1M)', '8.2\\n (56K)', '8.1\\n (972K)', '8.1\\n (181K)', '8.1\\n (114K)', '8.2\\n (66K)', '8.1\\n (655K)', '8.1\\n (794K)', '8.1\\n (186K)', '8.1\\n (121K)', '8.1\\n (459K)', '8.1\\n (816K)', '8.1\\n (197K)', '8.1\\n (68K)', '8.1\\n (447K)', '8.1\\n (855K)', '8.1\\n (624K)', '8.1\\n (824K)', '8.1\\n (499K)', '8.1\\n (371K)', '8.1\\n (437K)', '8.1\\n (918K)', '8.1\\n (60K)', '8.1\\n (286K)', '8.1\\n (70K)', '8.1\\n (194K)', '8.7\\n (216K)', '8.1\\n (452K)', '8.1\\n (510K)', '8.1\\n (1.2M)', '8.1\\n (169K)', '8.1\\n (438K)', '8.1\\n (426K)', '8.0\\n (802K)', '8.1\\n (309K)', '8.1\\n (655K)', '8.1\\n (170K)', '8.2\\n (92K)', '8.1\\n (42K)', '8.1\\n (259K)', '8.1\\n (99K)', '8.0\\n (680K)', '8.1\\n (65K)', '8.1\\n (252K)', '8.1\\n (146K)', '8.1\\n (188K)', '8.1\\n (225K)', '8.1\\n (490K)', '8.1\\n (112K)', '8.1\\n (127K)', '8.0\\n (288K)']\n"
     ]
    }
   ],
   "source": [
    "#ipc-rating-star ipc-rating-star--base ipc-rating-star--imdb ratingGroup--imdb-rating\n",
    "\n",
    "movie_rating_list = driver.find_elements(By.XPATH,'//span[@class=\"ipc-rating-star ipc-rating-star--base ipc-rating-star--imdb ratingGroup--imdb-rating\"]')\n",
    "movie_rating_list = [rating.text for rating in movie_rating_list]\n",
    "movie_rating_list = movie_rating_list[1:]\n",
    "print(movie_rating_list)\n",
    "\n"
   ]
  },
  {
   "cell_type": "code",
   "execution_count": 164,
   "metadata": {},
   "outputs": [
    {
     "name": "stdout",
     "output_type": "stream",
     "text": [
      "['9.2', '9.0', '9.0', '9.0', '9.0', '9.0', '8.9', '8.9', '9.0', '8.8', '8.8', '8.8', '8.8', '8.8', '8.7', '8.7', '8.7', '8.7', '8.6', '8.6', '8.7', '8.6', '8.6', '8.6', '8.6', '8.6', '8.6', '8.6', '8.6', '8.5', '8.6', '8.5', '8.6', '8.5', '8.5', '8.5', '8.5', '8.5', '8.5', '8.5', '8.5', '8.5', '8.5', '8.6', '8.5', '8.5', '8.5', '8.5', '8.5', '8.5', '8.5', '8.5', '8.5', '9.1', '8.4', '8.5', '8.4', '8.4', '8.4', '8.4', '8.4', '8.4', '8.4', '8.4', '8.4', '8.4', '8.4', '8.4', '8.4', '8.4', '8.4', '8.3', '8.3', '8.4', '8.4', '8.3', '8.4', '8.3', '8.4', '8.4', '8.3', '8.3', '8.4', '8.4', '8.3', '8.4', '8.4', '8.3', '8.4', '8.3', '8.4', '8.3', '8.3', '8.3', '8.3', '8.3', '8.3', '8.3', '8.3', '8.3', '8.3', '8.3', '8.3', '8.3', '8.3', '8.3', '8.3', '8.3', '8.3', '8.3', '8.3', '8.3', '8.3', '8.3', '8.3', '8.2', '8.2', '8.3', '8.3', '8.3', '8.2', '8.2', '8.3', '8.2', '8.2', '8.2', '8.3', '8.2', '8.2', '8.2', '8.2', '8.2', '8.2', '8.2', '8.2', '8.3', '8.2', '8.2', '8.2', '8.2', '8.2', '8.2', '8.2', '8.2', '8.2', '8.2', '8.2', '8.2', '8.2', '8.2', '8.2', '8.2', '8.2', '8.2', '8.2', '8.2', '8.2', '8.2', '8.2', '8.1', '8.1', '8.2', '8.2', '8.2', '8.1', '8.2', '8.1', '8.1', '8.1', '8.1', '8.1', '8.2', '8.1', '8.2', '8.1', '8.1', '8.3', '8.1', '8.1', '8.1', '8.1', '8.2', '8.1', '8.1', '8.1', '8.1', '8.1', '8.1', '8.1', '8.1', '8.1', '8.1', '8.1', '8.1', '8.1', '8.1', '8.1', '8.1', '8.1', '8.2', '8.1', '8.1', '8.1', '8.2', '8.1', '8.1', '8.1', '8.1', '8.1', '8.1', '8.1', '8.1', '8.1', '8.1', '8.1', '8.1', '8.1', '8.1', '8.1', '8.1', '8.1', '8.1', '8.1', '8.1', '8.7', '8.1', '8.1', '8.1', '8.1', '8.1', '8.1', '8.0', '8.1', '8.1', '8.1', '8.2', '8.1', '8.1', '8.1', '8.0', '8.1', '8.1', '8.1', '8.1', '8.1', '8.1', '8.1', '8.1', '8.0']\n"
     ]
    }
   ],
   "source": [
    "rating_list = []\n",
    "for rating in movie_rating_list:\n",
    "    rating_list.append(rating.split()[0])\n",
    "print(rating_list)"
   ]
  },
  {
   "cell_type": "code",
   "execution_count": 165,
   "metadata": {},
   "outputs": [
    {
     "name": "stdout",
     "output_type": "stream",
     "text": [
      "['1994', '2h 22m', 'R', '1972', '2h 55m', 'R', '2008', '2h 32m', 'PG-13', '1974', '3h 22m', 'R', '1957', '1h 36m', 'Approved', '1993', '3h 15m', 'R', '2003', '3h 21m', 'PG-13', '1994', '2h 34m', 'R', '2001', '2h 58m', 'PG-13', '2024', '2h 46m', 'PG-13', '1966', '2h 58m', 'Approved', '1994', '2h 22m', 'PG-13', '2002', '2h 59m', 'PG-13', '1999', '2h 19m', 'R', '2010', '2h 28m', 'PG-13', '1980', '2h 4m', 'PG', '1999', '2h 16m', 'R', '1990', '2h 25m', 'R', '1975', '2h 13m', 'R', '1995', '2h 7m', 'R', '1946', '2h 10m', 'PG', '2014', '2h 49m', 'PG-13', '1954', '3h 27m', 'Not Rated', '1991', '1h 58m', 'R', '1998', '2h 49m', 'R', '2002', '2h 10m', 'R', '1997', '1h 56m', 'PG-13', '1999', '3h 9m', 'R', '1991', '2h 17m', 'R', '1977', '2h 1m', 'PG', '1985', '1h 56m', 'PG', '2001', '2h 5m', 'PG', '2002', '2h 30m', 'R', '2023', '2h 20m', 'PG', '2019', '2h 12m', 'R', '1960', '1h 49m', 'R', '2000', '2h 35m', 'R', '1994', '1h 28m', 'G', '1994', '1h 50m', 'R', '2006', '2h 31m', 'R', '1998', '1h 59m', 'R', '2014', '1h 46m', 'R', '2006', '2h 10m', 'PG-13', '1988', '1h 29m', 'Not Rated', '1962', '2h 13m', 'Not Rated', '1995', '1h 46m', 'R', '1942', '1h 42m', 'PG', '2011', '1h 52m', 'R', '1988', '2h 54m', 'PG', '1936', '1h 27m', 'G', '1954', '1h 52m', 'PG', '1968', '2h 46m', 'PG-13', '1979', '1h 57m', 'R', '1931', '1h 27m', 'G', '2023', '2h 27m', '1979', '2h 27m', 'R', '2012', '2h 45m', 'R', '2000', '1h 53m', 'R', '2008', '1h 38m', 'G', '1981', '1h 55m', 'PG', '2006', '2h 17m', 'R', '1950', '1h 50m', 'Passed', '1957', '1h 28m', 'Approved', '2018', '2h 29m', 'PG-13', '2018', '1h 57m', 'PG', '1980', '2h 26m', 'R', '1957', '1h 56m', 'Approved', '1940', '2h 5m', 'G', '1986', '2h 17m', 'R', '2009', '2h 33m', 'R', '2012', '2h 44m', 'PG-13', '1964', '1h 35m', 'PG', '1999', '2h 2m', 'R', '2003', '2h', 'R', '2017', '1h 45m', 'PG', '1984', '2h 40m', 'PG', '1995', '1h 21m', 'G', '1981', '2h 29m', '1995', '2h 58m', 'R', '2019', '3h 1m', 'PG-13', '2019', '2h 2m', 'R', '1997', '2h 14m', 'PG-13', '1997', '2h 6m', 'R', '2016', '1h 46m', 'TV-PG', '2023', '3h', 'R', '1984', '3h 49m', 'R', '1963', '2h 23m', 'Not Rated', '2009', '2h 50m', 'PG-13', '1952', '1h 43m', 'G', '2018', '2h 6m', 'R', '2000', '1h 42m', 'Unrated', '1985', '2h 22m', 'Not Rated', '2010', '1h 43m', 'E10+', '1983', '2h 11m', 'PG', '2004', '1h 48m', 'R', '2012', '1h 55m', 'R', '1968', '2h 29m', 'G', '1992', '1h 39m', 'R', '1952', '2h 23m', 'Not Rated', '1962', '3h 38m', 'Approved', '1960', '2h 5m', 'Approved', '1959', '2h 16m', 'Approved', '1941', '1h 59m', 'PG', '1931', '1h 39m', 'Passed', '1958', '2h 8m', 'PG', '1944', '1h 47m', 'Passed', '1983', '2h 50m', '18+', '2010', '2h 11m', 'R', '2001', '2h 2m', 'R', '1987', '1h 56m', 'R', '1971', '2h 16m', 'X', '1995', '2h 50m', 'R', '2009', '1h 36m', 'PG', '1962', '2h 9m', 'Approved', '1973', '2h 9m', 'PG', '2011', '2h 3m', 'PG-13', '1989', '2h 7m', 'PG-13', '1988', '2h 12m', 'R', '1927', '2h 33m', 'Not Rated', '2020', '2h 40m', 'PG-13', '2007', '2h 42m', 'PG', '2000', '1h 42m', 'R', '1997', '2h 18m', 'R', '1948', '1h 29m', 'Not Rated', '2019', '1h 59m', 'R', '1976', '1h 54m', 'R', '2004', '2h 36m', 'R', '2016', '2h 41m', 'Not Rated', '1965', '2h 12m', 'R', '2005', '2h 20m', 'PG-13', '2013', '3h', 'R', '1959', '2h 1m', 'Passed', '1921', '1h 8m', 'Passed', '2018', '2h 10m', 'PG-13', '2020', '1h 37m', 'PG-13', '2022', '2h 10m', 'PG-13', '1961', '2h 59m', 'Approved', '1950', '2h 18m', 'Passed', '1998', '1h 43m', 'PG', '2007', '2h 38m', 'R', '2010', '2h 18m', 'R', '1995', '2h 58m', 'R', '1985', '2h 40m', 'R', '1993', '2h 7m', 'PG-13', '1999', '1h 47m', 'PG-13', '2006', '1h 58m', 'R', '1992', '2h 10m', 'R', '2001', '2h 15m', 'PG-13', '2007', '2h 2m', 'R', '1982', '1h 49m', 'R', '1948', '2h 6m', 'Passed', '1961', '1h 50m', 'Not Rated', '2003', '1h 51m', 'R', '1975', '1h 31m', 'PG', '1963', '2h 52m', 'Approved', '2003', '1h 40m', 'G', '1950', '1h 28m', 'Not Rated', '2023', '2h 21m', 'R', '2004', '1h 59m', 'PG', '1980', '2h 4m', 'PG', '2013', '2h 33m', 'R', '1974', '2h 10m', 'R', '1954', '1h 45m', 'PG', '1939', '3h 58m', 'Passed', '2005', '2h 12m', 'R', '1998', '1h 47m', 'R', '2009', '2h 9m', 'R', '1980', '2h 9m', 'R', '2015', '1h 35m', 'PG', '2017', '1h 55m', 'R', '1996', '1h 33m', 'R', '1957', '2h 41m', 'PG', '2021', '2h 28m', 'PG-13', '1996', '1h 38m', 'R', '2019', '1h 36m', 'PG', '2011', '2h 20m', 'PG-13', '2002', '2h 21m', 'PG-13', '2023', '2h 4m', 'PG-13', '2008', '1h 56m', 'R', '1988', '1h 26m', 'G', '2004', '2h 12m', 'PG-13', '2011', '2h 10m', 'PG-13', '1997', '1h 29m', 'PG', '2013', '2h 14m', 'R', '1982', '1h 57m', 'R', '1995', '1h 41m', 'R', '2014', '1h 39m', 'R', '1959', '3h 32m', 'G', '1975', '3h 5m', 'PG', '2014', '2h 29m', 'R', '1925', '1h 35m', 'Passed', '2016', '2h 19m', 'R', '1993', '2h 13m', 'R', '2003', '2h 12m', 'Not Rated', '1989', '2h 8m', 'PG', '1954', '1h 48m', 'Approved', '1926', '1h 18m', 'Passed', '1978', '3h 3m', 'R', '2014', '2h 2m', 'R', '2015', '2h', 'R', '1924', '45m', 'Passed', '2001', '1h 32m', 'G', '1949', '1h 33m', 'Approved', '1957', '1h 31m', 'Not Rated', '1953', '2h 11m', 'Not Rated', '1975', '2h 4m', 'PG', '2010', '1h 38m', 'PG', '2009', '1h 32m', 'Not Rated', '1939', '2h 9m', 'Passed', '2019', '2h 32m', 'PG-13', '2007', '1h 51m', 'G', '1957', '1h 36m', 'Not Rated', '1953', '2h 16m', 'Not Rated', '2015', '1h 58m', 'R', '1998', '1h 57m', 'R', '1976', '2h', 'PG', '2017', '2h 17m', 'R', '2015', '2h 9m', 'R', '2004', '2h 1m', 'PG-13', '1986', '2h', 'R', '1984', '1h 47m', 'R', '1928', '1h 54m', 'Passed', '2004', '1h 20m', 'R', '1946', '2h 50m', 'Approved', '1995', '1h 38m', 'Not Rated', '2021', '2h 44m', 'TV-MA', '1973', '2h 2m', 'R', '2013', '2h 3m', 'R', '2003', '2h 23m', 'PG-13', '1976', '2h 1m', 'R', '1986', '1h 29m', 'R', '1939', '1h 42m', 'G', '2004', '1h 55m', 'PG', '2009', '1h 33m', 'G', '2007', '2h 28m', 'R', '2016', '2h 25m', 'Not Rated', '2005', '1h 52m', 'Not Rated', '1942', '1h 39m', 'Passed', '1965', '2h 52m', 'G', '1940', '2h 9m', 'Passed', '1993', '1h 41m', 'PG', '1966', '2h 1m', 'Not Rated', '2000', '2h 34m', 'R', '1940', '2h 10m', 'Approved', '1967', '2h 7m', 'GP', '1999', '1h 26m', 'PG', '2011', '2h 26m', 'PG-13', '1934', '1h 45m', 'Passed', '1959', '1h 39m', 'Not Rated', '1990', '3h 1m', 'PG-13']\n"
     ]
    }
   ],
   "source": [
    "# the year of release is stored in sc-be6f1408-8 fcCUPU cli-title-metadata-item\n",
    "# if any of the movie does not have a year of release then write \"not mentioned\" to the list\n",
    "\n",
    "year_list = driver.find_elements(By.XPATH,'//span[@class=\"sc-be6f1408-8 fcCUPU cli-title-metadata-item\"]')\n",
    "year_list = [year.text for year in year_list]\n",
    "year_list = year_list[:]\n",
    "print(year_list)"
   ]
  },
  {
   "cell_type": "code",
   "execution_count": 166,
   "metadata": {},
   "outputs": [
    {
     "name": "stdout",
     "output_type": "stream",
     "text": [
      "Ratings: ['R', 'R', 'PG-13', 'R', 'Approved', 'R', 'PG-13', 'R', 'PG-13', 'PG-13', 'Approved', 'PG-13', 'PG-13', 'R', 'PG-13', 'PG', 'R', 'R', 'R', 'R', 'PG', 'PG-13', 'Not Rated', 'R', 'R', 'R', 'PG-13', 'R', 'R', 'PG', 'PG', 'PG', 'R', 'PG', 'R', 'R', 'R', 'G', 'R', 'R', 'R', 'R', 'PG-13', 'Not Rated', 'Not Rated', 'R', 'PG', 'R', 'PG', 'G', 'PG', 'PG-13', 'R', 'G', 'R', 'R', 'R', 'G', 'PG', 'R', 'Passed', 'Approved', 'PG-13', 'PG', 'R', 'Approved', 'G', 'R', 'R', 'PG-13', 'PG', 'R', 'R', 'PG', 'PG', 'G', 'R', 'PG-13', 'R', 'PG-13', 'R', 'TV-PG', 'R', 'R', 'Not Rated', 'PG-13', 'G', 'R', 'Unrated', 'Not Rated', 'E10+', 'PG', 'R', 'R', 'G', 'R', 'Not Rated', 'Approved', 'Approved', 'Approved', 'PG', 'Passed', 'PG', 'Passed', 'R', 'R', 'R', 'X', 'R', 'PG', 'Approved', 'PG', 'PG-13', 'PG-13', 'R', 'Not Rated', 'PG-13', 'PG', 'R', 'R', 'Not Rated', 'R', 'R', 'R', 'Not Rated', 'R', 'PG-13', 'R', 'Passed', 'Passed', 'PG-13', 'PG-13', 'PG-13', 'Approved', 'Passed', 'PG', 'R', 'R', 'R', 'R', 'PG-13', 'PG-13', 'R', 'R', 'PG-13', 'R', 'R', 'Passed', 'Not Rated', 'R', 'PG', 'Approved', 'G', 'Not Rated', 'R', 'PG', 'PG', 'R', 'R', 'PG', 'Passed', 'R', 'R', 'R', 'R', 'PG', 'R', 'R', 'PG', 'PG-13', 'R', 'PG', 'PG-13', 'PG-13', 'PG-13', 'R', 'G', 'PG-13', 'PG-13', 'PG', 'R', 'R', 'R', 'R', 'G', 'PG', 'R', 'Passed', 'R', 'R', 'Not Rated', 'PG', 'Approved', 'Passed', 'R', 'R', 'R', 'Passed', 'G', 'Approved', 'Not Rated', 'Not Rated', 'PG', 'PG', 'Not Rated', 'Passed', 'PG-13', 'G', 'Not Rated', 'Not Rated', 'R', 'R', 'PG', 'R', 'R', 'PG-13', 'R', 'R', 'Passed', 'R', 'Approved', 'Not Rated', 'TV-MA', 'R', 'R', 'PG-13', 'R', 'R', 'G', 'PG', 'G', 'R', 'Not Rated', 'Not Rated', 'Passed', 'G', 'Passed', 'PG', 'Not Rated', 'R', 'Approved', 'GP', 'PG', 'PG-13', 'Passed', 'Not Rated', 'PG-13']\n",
      "247\n",
      "Hour Times: ['2h 22m', '2h 55m', '2h 32m', '3h 22m', '1h 36m', '3h 15m', '3h 21m', '2h 34m', '2h 58m', '2h 46m', '2h 58m', '2h 22m', '2h 59m', '2h 19m', '2h 28m', '2h 4m', '2h 16m', '2h 25m', '2h 13m', '2h 7m', '2h 10m', '2h 49m', '3h 27m', '1h 58m', '2h 49m', '2h 10m', '1h 56m', '3h 9m', '2h 17m', '2h 1m', '1h 56m', '2h 5m', '2h 30m', '2h 20m', '2h 12m', '1h 49m', '2h 35m', '1h 28m', '1h 50m', '2h 31m', '1h 59m', '1h 46m', '2h 10m', '1h 29m', '2h 13m', '1h 46m', '1h 42m', '1h 52m', '2h 54m', '1h 27m', '1h 52m', '2h 46m', '1h 57m', '1h 27m', '2h 27m', '2h 27m', '2h 45m', '1h 53m', '1h 38m', '1h 55m', '2h 17m', '1h 50m', '1h 28m', '2h 29m', '1h 57m', '2h 26m', '1h 56m', '2h 5m', '2h 17m', '2h 33m', '2h 44m', '1h 35m', '2h 2m', '2h', '1h 45m', '2h 40m', '1h 21m', '2h 29m', '2h 58m', '3h 1m', '2h 2m', '2h 14m', '2h 6m', '1h 46m', '3h', '3h 49m', '2h 23m', '2h 50m', '1h 43m', '2h 6m', '1h 42m', '2h 22m', '1h 43m', '2h 11m', '1h 48m', '1h 55m', '2h 29m', '1h 39m', '2h 23m', '3h 38m', '2h 5m', '2h 16m', '1h 59m', '1h 39m', '2h 8m', '1h 47m', '2h 50m', '2h 11m', '2h 2m', '1h 56m', '2h 16m', '2h 50m', '1h 36m', '2h 9m', '2h 9m', '2h 3m', '2h 7m', '2h 12m', '2h 33m', '2h 40m', '2h 42m', '1h 42m', '2h 18m', '1h 29m', '1h 59m', '1h 54m', '2h 36m', '2h 41m', '2h 12m', '2h 20m', '3h', '2h 1m', '1h 8m', '2h 10m', '1h 37m', '2h 10m', '2h 59m', '2h 18m', '1h 43m', '2h 38m', '2h 18m', '2h 58m', '2h 40m', '2h 7m', '1h 47m', '1h 58m', '2h 10m', '2h 15m', '2h 2m', '1h 49m', '2h 6m', '1h 50m', '1h 51m', '1h 31m', '2h 52m', '1h 40m', '1h 28m', '2h 21m', '1h 59m', '2h 4m', '2h 33m', '2h 10m', '1h 45m', '3h 58m', '2h 12m', '1h 47m', '2h 9m', '2h 9m', '1h 35m', '1h 55m', '1h 33m', '2h 41m', '2h 28m', '1h 38m', '1h 36m', '2h 20m', '2h 21m', '2h 4m', '1h 56m', '1h 26m', '2h 12m', '2h 10m', '1h 29m', '2h 14m', '1h 57m', '1h 41m', '1h 39m', '3h 32m', '3h 5m', '2h 29m', '1h 35m', '2h 19m', '2h 13m', '2h 12m', '2h 8m', '1h 48m', '1h 18m', '3h 3m', '2h 2m', '2h', '1h 32m', '1h 33m', '1h 31m', '2h 11m', '2h 4m', '1h 38m', '1h 32m', '2h 9m', '2h 32m', '1h 51m', '1h 36m', '2h 16m', '1h 58m', '1h 57m', '2h', '2h 17m', '2h 9m', '2h 1m', '2h', '1h 47m', '1h 54m', '1h 20m', '2h 50m', '1h 38m', '2h 44m', '2h 2m', '2h 3m', '2h 23m', '2h 1m', '1h 29m', '1h 42m', '1h 55m', '1h 33m', '2h 28m', '2h 25m', '1h 52m', '1h 39m', '2h 52m', '2h 9m', '1h 41m', '2h 1m', '2h 34m', '2h 10m', '2h 7m', '1h 26m', '2h 26m', '1h 45m', '1h 39m', '3h 1m']\n",
      "249\n",
      "Years: ['1994', '1972', '2008', '1974', '1957', '1993', '2003', '1994', '2001', '2024', '1966', '1994', '2002', '1999', '2010', '1980', '1999', '1990', '1975', '1995', '1946', '2014', '1954', '1991', '1998', '2002', '1997', '1999', '1991', '1977', '1985', '2001', '2002', '2023', '2019', '1960', '2000', '1994', '1994', '2006', '1998', '2014', '2006', '1988', '1962', '1995', '1942', '2011', '1988', '1936', '1954', '1968', '1979', '1931', '2023', '1979', '2012', '2000', '2008', '1981', '2006', '1950', '1957', '2018', '2018', '1980', '1957', '1940', '1986', '2009', '2012', '1964', '1999', '2003', '2017', '1984', '1995', '1981', '1995', '2019', '2019', '1997', '1997', '2016', '2023', '1984', '1963', '2009', '1952', '2018', '2000', '1985', '2010', '1983', '2004', '2012', '1968', '1992', '1952', '1962', '1960', '1959', '1941', '1931', '1958', '1944', '1983', 'not mentioned', '2010', '2001', '1987', '1971', '1995', '2009', '1962', '1973', '2011', '1989', '1988', '1927', '2020', '2007', '2000', '1997', '1948', '2019', '1976', '2004', '2016', '1965', '2005', '2013', '1959', '1921', '2018', '2020', '2022', '1961', '1950', '1998', '2007', '2010', '1995', '1985', '1993', '1999', '2006', '1992', '2001', '2007', '1982', '1948', '1961', '2003', '1975', '1963', '2003', '1950', '2023', '2004', '1980', '2013', '1974', '1954', '1939', '2005', '1998', '2009', '1980', '2015', '2017', '1996', '1957', '2021', '1996', '2019', '2011', '2002', '2023', '2008', '1988', '2004', '2011', '1997', '2013', '1982', '1995', '2014', '1959', '1975', '2014', '1925', '2016', '1993', '2003', '1989', '1954', '1926', '1978', '2014', '2015', '1924', 'not mentioned', '2001', '1949', '1957', '1953', '1975', '2010', '2009', '1939', '2019', '2007', '1957', '1953', '2015', '1998', '1976', '2017', '2015', '2004', '1986', '1984', '1928', '2004', '1946', '1995', '2021', '1973', '2013', '2003', '1976', '1986', '1939', '2004', '2009', '2007', '2016', '2005', '1942', '1965', '1940', '1993', '1966', '2000', '1940', '1967', '1999', '2011', '1934', '1959', '1990']\n",
      "252\n"
     ]
    }
   ],
   "source": [
    "ratings = []\n",
    "\n",
    "hour_times = []\n",
    "\n",
    "years = []\n",
    "\n",
    "for item in year_list:\n",
    "\n",
    "# Extract movie rating\n",
    "\n",
    "    if item in ['G', 'PG', 'PG-13', 'R', 'Not Rated', 'Unrated', 'Approved', 'Passed', 'TV-PG', 'TV-MA', 'TV-14', 'TV-G', 'TV-Y', 'TV-Y7', 'E10+', 'GP', 'M', 'X', 'Approved']:\n",
    "        ratings.append(item)\n",
    "\n",
    "# Extract hour time\n",
    "    elif 'h' in item:\n",
    "        hour_times.append(item)\n",
    "\n",
    "# Extract year or mark as \"not mentioned\" if missing\n",
    "    elif len(item)==4:\n",
    "        years.append(item)\n",
    "\n",
    "    else:\n",
    "        years.append(\"not mentioned\")\n",
    "\n",
    "print(\"Ratings:\", ratings)\n",
    "print(len(ratings))\n",
    "\n",
    "print(\"Hour Times:\", hour_times)\n",
    "print(len(hour_times))\n",
    "\n",
    "print(\"Years:\", years)\n",
    "print(len(years))"
   ]
  },
  {
   "cell_type": "code",
   "execution_count": 167,
   "metadata": {},
   "outputs": [
    {
     "name": "stdout",
     "output_type": "stream",
     "text": [
      "247\n",
      "249\n",
      "252\n",
      "263\n",
      "249\n"
     ]
    }
   ],
   "source": [
    "print(len(ratings))\n",
    "print(len(hour_times))\n",
    "print(len(years))\n",
    "print(len(name_list))\n",
    "print(len(rating_list))\n",
    "\n",
    "hour_times = hour_times[0:247]\n",
    "years = years[0:247]\n",
    "ratings = ratings[0:247]\n",
    "name_list = name_list[0:247]\n",
    "rating_list = rating_list[0:247]\n"
   ]
  },
  {
   "cell_type": "code",
   "execution_count": 168,
   "metadata": {},
   "outputs": [
    {
     "name": "stdout",
     "output_type": "stream",
     "text": [
      "247\n",
      "247\n",
      "247\n",
      "247\n",
      "247\n"
     ]
    }
   ],
   "source": [
    "print(len(ratings))\n",
    "print(len(hour_times))\n",
    "print(len(years))\n",
    "print(len(name_list))\n",
    "print(len(rating_list))"
   ]
  },
  {
   "cell_type": "code",
   "execution_count": 169,
   "metadata": {},
   "outputs": [
    {
     "data": {
      "text/html": [
       "<div>\n",
       "<style scoped>\n",
       "    .dataframe tbody tr th:only-of-type {\n",
       "        vertical-align: middle;\n",
       "    }\n",
       "\n",
       "    .dataframe tbody tr th {\n",
       "        vertical-align: top;\n",
       "    }\n",
       "\n",
       "    .dataframe thead th {\n",
       "        text-align: right;\n",
       "    }\n",
       "</style>\n",
       "<table border=\"1\" class=\"dataframe\">\n",
       "  <thead>\n",
       "    <tr style=\"text-align: right;\">\n",
       "      <th></th>\n",
       "      <th>Movie Name</th>\n",
       "      <th>Rating/10</th>\n",
       "      <th>Ratings</th>\n",
       "      <th>Hour Times</th>\n",
       "      <th>Years</th>\n",
       "    </tr>\n",
       "  </thead>\n",
       "  <tbody>\n",
       "    <tr>\n",
       "      <th>0</th>\n",
       "      <td>1. The Shawshank Redemption</td>\n",
       "      <td>9.2</td>\n",
       "      <td>R</td>\n",
       "      <td>2h 22m</td>\n",
       "      <td>1994</td>\n",
       "    </tr>\n",
       "    <tr>\n",
       "      <th>1</th>\n",
       "      <td>2. The Godfather</td>\n",
       "      <td>9.0</td>\n",
       "      <td>R</td>\n",
       "      <td>2h 55m</td>\n",
       "      <td>1972</td>\n",
       "    </tr>\n",
       "    <tr>\n",
       "      <th>2</th>\n",
       "      <td>3. The Dark Knight</td>\n",
       "      <td>9.0</td>\n",
       "      <td>PG-13</td>\n",
       "      <td>2h 32m</td>\n",
       "      <td>2008</td>\n",
       "    </tr>\n",
       "    <tr>\n",
       "      <th>3</th>\n",
       "      <td>4. The Godfather Part II</td>\n",
       "      <td>9.0</td>\n",
       "      <td>R</td>\n",
       "      <td>3h 22m</td>\n",
       "      <td>1974</td>\n",
       "    </tr>\n",
       "    <tr>\n",
       "      <th>4</th>\n",
       "      <td>5. 12 Angry Men</td>\n",
       "      <td>9.0</td>\n",
       "      <td>Approved</td>\n",
       "      <td>1h 36m</td>\n",
       "      <td>1957</td>\n",
       "    </tr>\n",
       "    <tr>\n",
       "      <th>...</th>\n",
       "      <td>...</td>\n",
       "      <td>...</td>\n",
       "      <td>...</td>\n",
       "      <td>...</td>\n",
       "      <td>...</td>\n",
       "    </tr>\n",
       "    <tr>\n",
       "      <th>242</th>\n",
       "      <td>243. Amores Perros</td>\n",
       "      <td>8.1</td>\n",
       "      <td>PG</td>\n",
       "      <td>2h 10m</td>\n",
       "      <td>1993</td>\n",
       "    </tr>\n",
       "    <tr>\n",
       "      <th>243</th>\n",
       "      <td>244. Rebecca</td>\n",
       "      <td>8.1</td>\n",
       "      <td>PG-13</td>\n",
       "      <td>2h 7m</td>\n",
       "      <td>1966</td>\n",
       "    </tr>\n",
       "    <tr>\n",
       "      <th>244</th>\n",
       "      <td>245. Cool Hand Luke</td>\n",
       "      <td>8.1</td>\n",
       "      <td>Passed</td>\n",
       "      <td>1h 26m</td>\n",
       "      <td>2000</td>\n",
       "    </tr>\n",
       "    <tr>\n",
       "      <th>245</th>\n",
       "      <td>246. The Iron Giant</td>\n",
       "      <td>8.1</td>\n",
       "      <td>Not Rated</td>\n",
       "      <td>2h 26m</td>\n",
       "      <td>1940</td>\n",
       "    </tr>\n",
       "    <tr>\n",
       "      <th>246</th>\n",
       "      <td>247. The Help</td>\n",
       "      <td>8.1</td>\n",
       "      <td>PG-13</td>\n",
       "      <td>1h 45m</td>\n",
       "      <td>1967</td>\n",
       "    </tr>\n",
       "  </tbody>\n",
       "</table>\n",
       "<p>247 rows × 5 columns</p>\n",
       "</div>"
      ],
      "text/plain": [
       "                      Movie Name Rating/10    Ratings Hour Times Years\n",
       "0    1. The Shawshank Redemption       9.2          R     2h 22m  1994\n",
       "1               2. The Godfather       9.0          R     2h 55m  1972\n",
       "2             3. The Dark Knight       9.0      PG-13     2h 32m  2008\n",
       "3       4. The Godfather Part II       9.0          R     3h 22m  1974\n",
       "4                5. 12 Angry Men       9.0   Approved     1h 36m  1957\n",
       "..                           ...       ...        ...        ...   ...\n",
       "242           243. Amores Perros       8.1         PG     2h 10m  1993\n",
       "243                 244. Rebecca       8.1      PG-13      2h 7m  1966\n",
       "244          245. Cool Hand Luke       8.1     Passed     1h 26m  2000\n",
       "245          246. The Iron Giant       8.1  Not Rated     2h 26m  1940\n",
       "246                247. The Help       8.1      PG-13     1h 45m  1967\n",
       "\n",
       "[247 rows x 5 columns]"
      ]
     },
     "execution_count": 169,
     "metadata": {},
     "output_type": "execute_result"
    }
   ],
   "source": [
    "#now we have, movie name, rating list, ratings, hour times, years\n",
    "# create a data frame\n",
    "# if the size of the columns is not same, then we need to make the size same\n",
    "\n",
    "df = pd.DataFrame({'Movie Name':name_list, 'Rating/10':rating_list, 'Ratings':ratings, 'Hour Times':hour_times, 'Years':years})\n",
    "df"
   ]
  }
 ],
 "metadata": {
  "kernelspec": {
   "display_name": "Python 3",
   "language": "python",
   "name": "python3"
  },
  "language_info": {
   "codemirror_mode": {
    "name": "ipython",
    "version": 3
   },
   "file_extension": ".py",
   "mimetype": "text/x-python",
   "name": "python",
   "nbconvert_exporter": "python",
   "pygments_lexer": "ipython3",
   "version": "3.10.12"
  }
 },
 "nbformat": 4,
 "nbformat_minor": 2
}
